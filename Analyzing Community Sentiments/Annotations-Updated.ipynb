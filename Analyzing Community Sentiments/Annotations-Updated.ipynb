{
 "cells": [
  {
   "cell_type": "markdown",
   "id": "70ea4d79-4069-4b96-934a-f663b786eef0",
   "metadata": {},
   "source": [
    "# $\\mu$ girls - Annotations\n",
    "\n",
    "- Rani Misra, Cheryl Chiu, Abigail Davis, Kashfia Sharmin\n",
    "\n",
    "#### As we have an annotator from 2 different groups, as well as our own annotations from our group, it is best to use Fleiss’ kappa as it generalizes to multiple annotators. The following analysis was conducted after the guidelines were updated for more clarity and new annotations were gathered based on those guidelines. "
   ]
  },
  {
   "cell_type": "markdown",
   "id": "20d7a806-6020-4843-9e67-ac30f08dc581",
   "metadata": {},
   "source": [
    "### Using Combined Data Across All Annotators for Both Categories "
   ]
  },
  {
   "cell_type": "code",
   "execution_count": 3,
   "id": "fc63a74f-aa84-4d09-80bf-e74aca1ef929",
   "metadata": {
    "tags": []
   },
   "outputs": [
    {
     "name": "stdout",
     "output_type": "stream",
     "text": [
      "Fleiss' Kappa: 0.8713550600343056\n"
     ]
    }
   ],
   "source": [
    "import numpy as np\n",
    "from statsmodels.stats.inter_rater import fleiss_kappa\n",
    "\n",
    "data1 = np.array([\n",
    "    [3, 0],\n",
    "    [0, 3],\n",
    "    [0, 3],\n",
    "    [3, 0],\n",
    "    [3, 0],\n",
    "    [2, 1],\n",
    "    [3, 0],\n",
    "    [3, 0],\n",
    "    [3, 0],\n",
    "    [0, 3],\n",
    "    [3, 0],\n",
    "    [3, 0],\n",
    "    [3, 0],\n",
    "    [3, 0],\n",
    "    [0, 3],\n",
    "    [3, 0],\n",
    "    [2, 1],\n",
    "    [3, 0],\n",
    "    [0, 3],\n",
    "    [3, 0],\n",
    "    [3, 0],\n",
    "    [0, 3],\n",
    "    [3, 0],\n",
    "    [0, 3],\n",
    "    [0, 3],\n",
    "    [3, 0],\n",
    "    [0, 3],\n",
    "    [3, 0],\n",
    "    [0, 3],\n",
    "    [3, 0],\n",
    "    [3, 0],\n",
    "    [0, 3],\n",
    "    [3, 0],\n",
    "    [3, 0],\n",
    "    [3, 0],\n",
    "    [3, 0],\n",
    "    [3, 0],\n",
    "    [3, 0],\n",
    "    [3, 0],\n",
    "    [3, 0],\n",
    "    [3, 0],\n",
    "    [0, 3],\n",
    "    [2, 1],\n",
    "    [3, 0],\n",
    "    [3, 0],\n",
    "    [3, 0],\n",
    "    [3, 0],\n",
    "    [0, 3],\n",
    "    [1, 2],\n",
    "    [3, 0]\n",
    "])\n",
    "\n",
    "# Calculate Fleiss' Kappa\n",
    "kappa1 = fleiss_kappa(data1, method='fleiss')\n",
    "print(\"Fleiss' Kappa:\", kappa1)"
   ]
  },
  {
   "cell_type": "markdown",
   "id": "f5cfb0e4-7334-4287-838b-1a8c9bfae21d",
   "metadata": {
    "tags": []
   },
   "source": [
    "As the Fleiss' Kappa value falls in the range of 0.81 - 1, we can assume that there is almost perfect agreement amongst the annotators when it comes to the Technology category."
   ]
  },
  {
   "cell_type": "code",
   "execution_count": 5,
   "id": "c03559c9-0dbe-4dc6-a62b-7f490e1aa16d",
   "metadata": {
    "tags": []
   },
   "outputs": [
    {
     "name": "stdout",
     "output_type": "stream",
     "text": [
      "Fleiss' Kappa: 0.6555023923444976\n"
     ]
    }
   ],
   "source": [
    "data2 = np.array([\n",
    "    [0, 3],\n",
    "    [2, 1],\n",
    "    [3, 0],\n",
    "    [1, 2],\n",
    "    [0, 3],\n",
    "    [2, 1],\n",
    "    [3, 0],\n",
    "    [3, 0],\n",
    "    [3, 0],\n",
    "    [0, 3],\n",
    "    [0, 3],\n",
    "    [3, 0],\n",
    "    [1, 2],\n",
    "    [0, 3],\n",
    "    [0, 3],\n",
    "    [0, 3],\n",
    "    [0, 3],\n",
    "    [0, 3],\n",
    "    [3, 0],\n",
    "    [1, 2],\n",
    "    [1, 2],\n",
    "    [0, 3],\n",
    "    [0, 3],\n",
    "    [0, 3],\n",
    "    [0, 3],\n",
    "    [0, 3],\n",
    "    [3, 0],\n",
    "    [0, 3],\n",
    "    [3, 0],\n",
    "    [0, 3],\n",
    "    [0, 3],\n",
    "    [3, 0],\n",
    "    [1, 2],\n",
    "    [2, 1],\n",
    "    [1, 2],\n",
    "    [0, 3],\n",
    "    [3, 0],\n",
    "    [2, 1],\n",
    "    [0, 3],\n",
    "    [0, 3],\n",
    "    [1, 2],\n",
    "    [3, 0],\n",
    "    [0, 3],\n",
    "    [3, 0],\n",
    "    [0, 3],\n",
    "    [0, 3],\n",
    "    [0, 3],\n",
    "    [3, 0],\n",
    "    [1, 2],\n",
    "    [0, 3]\n",
    "])\n",
    "\n",
    "# Calculate Fleiss' Kappa\n",
    "kappa2 = fleiss_kappa(data2, method='fleiss')\n",
    "print(\"Fleiss' Kappa:\", kappa2)"
   ]
  },
  {
   "cell_type": "markdown",
   "id": "234735d3-e8da-40e1-89ae-5044b9582b45",
   "metadata": {
    "tags": []
   },
   "source": [
    "As the Fleiss' Kappa value falls in the range of 0.61 - 0.8, we can assume that there is substantial agreement amongst the annotators when it comes to the Public Safety category."
   ]
  }
 ],
 "metadata": {
  "kernelspec": {
   "display_name": "Python 3 (ipykernel)",
   "language": "python",
   "name": "python3"
  },
  "language_info": {
   "codemirror_mode": {
    "name": "ipython",
    "version": 3
   },
   "file_extension": ".py",
   "mimetype": "text/x-python",
   "name": "python",
   "nbconvert_exporter": "python",
   "pygments_lexer": "ipython3",
   "version": "3.11.7"
  }
 },
 "nbformat": 4,
 "nbformat_minor": 5
}
