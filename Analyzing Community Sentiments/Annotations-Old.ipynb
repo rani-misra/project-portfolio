{
 "cells": [
  {
   "cell_type": "markdown",
   "id": "70ea4d79-4069-4b96-934a-f663b786eef0",
   "metadata": {},
   "source": [
    "# $\\mu$ girls - Annotations\n",
    "\n",
    "- Rani Misra, Cheryl Chiu, Abigail Davis, Kashfia Sharmin\n",
    "\n",
    "#### As we have an annotator from 2 different groups, as well as our own annotations from our group, it is best to use Fleiss’ kappa as it generalizes to multiple annotators."
   ]
  },
  {
   "cell_type": "markdown",
   "id": "20d7a806-6020-4843-9e67-ac30f08dc581",
   "metadata": {},
   "source": [
    "### Using Combined Data Across All Annotators for Both Categories "
   ]
  },
  {
   "cell_type": "code",
   "execution_count": 3,
   "id": "fc63a74f-aa84-4d09-80bf-e74aca1ef929",
   "metadata": {
    "tags": []
   },
   "outputs": [
    {
     "name": "stdout",
     "output_type": "stream",
     "text": [
      "Fleiss' Kappa: 0.3183226606073125\n"
     ]
    }
   ],
   "source": [
    "import numpy as np\n",
    "from statsmodels.stats.inter_rater import fleiss_kappa\n",
    "\n",
    "data1 = np.array([\n",
    "    [3, 0], # Comment 1: 3 annotators chose \"Technology\", 0 chose \"Non-Technology\"\n",
    "    [1, 2], # Comment 2: 1 annotators chose \"Technology\", 2 chose \"Non-Technology\"\n",
    "    [2, 1], # Comment 3: 2 annotators chose \"Technology\", 1 chose \"Non-Technology\"\n",
    "    [3, 0], # Comment 4: 3 annotators chose \"Technology\", 0 chose \"Non-Technology\"\n",
    "    [3, 0], # Comment 5: 3 annotators chose \"Technology\", 0 chose \"Non-Technology\"\n",
    "    [2, 1], # Comment 6: 2 annotators chose \"Technology\", 1 chose \"Non-Technology\"\n",
    "    [3, 0], # Comment 7: 3 annotators chose \"Technology\", 0 chose \"Non-Technology\"\n",
    "    [2, 1], # Comment 8: 2 annotators chose \"Technology\", 1 chose \"Non-Technology\"\n",
    "    [2, 1], # Comment 9: 2 annotators chose \"Technology\", 1 chose \"Non-Technology\"\n",
    "    [0, 3], # Comment 10: 0 annotators chose \"Technology\", 3 chose \"Non-Technology\"\n",
    "    [3, 0], # Comment 11: 3 annotators chose \"Technology\", 0 chose \"Non-Technology\"\n",
    "    [2, 1], # Comment 12: 2 annotators chose \"Technology\", 1 chose \"Non-Technology\"\n",
    "    [2, 1], # Comment 13: 2 annotators chose \"Technology\", 1 chose \"Non-Technology\"\n",
    "    [3, 0], # Comment 14: 3 annotators chose \"Technology\", 0 chose \"Non-Technology\"\n",
    "    [0, 3], # Comment 15: 0 annotators chose \"Technology\", 3 chose \"Non-Technology\"\n",
    "    [3, 0], # Comment 16: 3 annotators chose \"Technology\", 0 chose \"Non-Technology\"\n",
    "    [2, 1], # Comment 17: 2 annotators chose \"Technology\", 1 chose \"Non-Technology\"\n",
    "    [3, 0], # Comment 18: 3 annotators chose \"Technology\", 0 chose \"Non-Technology\"\n",
    "    [0, 3], # Comment 19: 0 annotators chose \"Technology\", 3 chose \"Non-Technology\"\n",
    "    [3, 0], # Comment 20: 3 annotators chose \"Technology\", 0 chose \"Non-Technology\"\n",
    "    [3, 0], # Comment 21: 3 annotators chose \"Technology\", 0 chose \"Non-Technology\"\n",
    "    [1, 2], # Comment 22: 1 annotators chose \"Technology\", 2 chose \"Non-Technology\"\n",
    "    [3, 0], # Comment 23: 3 annotators chose \"Technology\", 0 chose \"Non-Technology\"\n",
    "    [0, 3], # Comment 24: 0 annotators chose \"Technology\", 3 chose \"Non-Technology\"\n",
    "    [0, 3], # Comment 25: 0 annotators chose \"Technology\", 3 chose \"Non-Technology\"\n",
    "    [3, 0], # Comment 26: 3 annotators chose \"Technology\", 0 chose \"Non-Technology\"\n",
    "    [1, 2], # Comment 27: 1 annotators chose \"Technology\", 2 chose \"Non-Technology\"\n",
    "    [2, 1], # Comment 28: 2 annotators chose \"Technology\", 1 chose \"Non-Technology\"\n",
    "    [0, 3], # Comment 29: 0 annotators chose \"Technology\", 3 chose \"Non-Technology\"\n",
    "    [3, 0], # Comment 30: 3 annotators chose \"Technology\", 0 chose \"Non-Technology\"\n",
    "    [3, 0], # Comment 31: 3 annotators chose \"Technology\", 0 chose \"Non-Technology\"\n",
    "    [1, 2], # Comment 32: 1 annotators chose \"Technology\", 2 chose \"Non-Technology\"\n",
    "    [3, 0], # Comment 33: 3 annotators chose \"Technology\", 0 chose \"Non-Technology\"\n",
    "    [2, 1], # Comment 34: 2 annotators chose \"Technology\", 1 chose \"Non-Technology\"\n",
    "    [3, 0], # Comment 35: 3 annotators chose \"Technology\", 0 chose \"Non-Technology\"\n",
    "    [3, 0], # Comment 36: 3 annotators chose \"Technology\", 0 chose \"Non-Technology\"\n",
    "    [2, 1], # Comment 37: 2 annotators chose \"Technology\", 1 chose \"Non-Technology\"\n",
    "    [2, 1], # Comment 38: 2 annotators chose \"Technology\", 1 chose \"Non-Technology\"\n",
    "    [3, 0], # Comment 39: 3 annotators chose \"Technology\", 0 chose \"Non-Technology\"\n",
    "    [2, 1], # Comment 40: 2 annotators chose \"Technology\", 1 chose \"Non-Technology\"\n",
    "    [2, 1], # Comment 41: 2 annotators chose \"Technology\", 1 chose \"Non-Technology\"\n",
    "    [1, 2], # Comment 42: 1 annotators chose \"Technology\", 2 chose \"Non-Technology\"\n",
    "    [2, 1], # Comment 43: 2 annotators chose \"Technology\", 1 chose \"Non-Technology\"\n",
    "    [2, 1], # Comment 44: 2 annotators chose \"Technology\", 1 chose \"Non-Technology\"\n",
    "    [3, 0], # Comment 45: 3 annotators chose \"Technology\", 0 chose \"Non-Technology\"\n",
    "    [3, 0], # Comment 46: 3 annotators chose \"Technology\", 0 chose \"Non-Technology\"\n",
    "    [3, 0], # Comment 47: 3 annotators chose \"Technology\", 0 chose \"Non-Technology\"\n",
    "    [1, 2], # Comment 48: 1 annotators chose \"Technology\", 2 chose \"Non-Technology\"\n",
    "    [1, 2], # Comment 49: 1 annotators chose \"Technology\", 2 chose \"Non-Technology\"\n",
    "    [3, 0]  # Comment 50: 3 annotators chose \"Technology\", 0 chose \"Non-Technology\"\n",
    "])\n",
    "\n",
    "# Calculate Fleiss' Kappa\n",
    "kappa1 = fleiss_kappa(data1, method='fleiss')\n",
    "print(\"Fleiss' Kappa:\", kappa1)"
   ]
  },
  {
   "cell_type": "markdown",
   "id": "f5cfb0e4-7334-4287-838b-1a8c9bfae21d",
   "metadata": {
    "tags": []
   },
   "source": [
    "As the Fleiss' Kappa value falls in the range of 0.21 - 0.4, we can assume that there is fair agreement amongst the annotators when it comes to the Technology category."
   ]
  },
  {
   "cell_type": "code",
   "execution_count": 5,
   "id": "c03559c9-0dbe-4dc6-a62b-7f490e1aa16d",
   "metadata": {
    "tags": []
   },
   "outputs": [
    {
     "name": "stdout",
     "output_type": "stream",
     "text": [
      "Fleiss' Kappa: 0.40658155008092073\n"
     ]
    }
   ],
   "source": [
    "data2 = np.array([\n",
    "    [1, 2], # Comment 1: 1 annotators chose \"Public Safety\", 2 chose \"Non-Public Safety\"\n",
    "    [2, 1], # Comment 2: 2 annotators chose \"Public Safety\", 1 chose \"Non-Public Safety\"\n",
    "    [2, 1], # Comment 3: 2 annotators chose \"Public Safety\", 1 chose \"Non-Public Safety\"\n",
    "    [2, 1], # Comment 4: 2 annotators chose \"Public Safety\", 1 chose \"Non-Public Safety\"\n",
    "    [1, 2], # Comment 5: 1 annotators chose \"Public Safety\", 2 chose \"Non-Public Safety\"\n",
    "    [1, 2], # Comment 6: 1 annotators chose \"Public Safety\", 2 chose \"Non-Public Safety\"\n",
    "    [2, 1], # Comment 7: 2 annotators chose \"Public Safety\", 1 chose \"Non-Public Safety\"\n",
    "    [3, 0], # Comment 8: 3 annotators chose \"Public Safety\", 0 chose \"Non-Public Safety\"\n",
    "    [3, 0], # Comment 9: 3 annotators chose \"Public Safety\", 0 chose \"Non-Public Safety\"\n",
    "    [0, 3], # Comment 10: 0 annotators chose \"Public Safety\", 3 chose \"Non-Public Safety\"\n",
    "    [1, 2], # Comment 11: 1 annotators chose \"Public Safety\", 2 chose \"Non-Public Safety\"\n",
    "    [3, 0], # Comment 12: 3 annotators chose \"Public Safety\", 0 chose \"Non-Public Safety\"\n",
    "    [2, 1], # Comment 13: 2 annotators chose \"Public Safety\", 1 chose \"Non-Public Safety\"\n",
    "    [0, 3], # Comment 14: 0 annotators chose \"Public Safety\", 3 chose \"Non-Public Safety\"\n",
    "    [0, 3], # Comment 15: 0 annotators chose \"Public Safety\", 3 chose \"Non-Public Safety\"\n",
    "    [0, 3], # Comment 16: 0 annotators chose \"Public Safety\", 3 chose \"Non-Public Safety\"\n",
    "    [3, 0], # Comment 17: 3 annotators chose \"Public Safety\", 0 chose \"Non-Public Safety\"\n",
    "    [0, 3], # Comment 18: 0 annotators chose \"Public Safety\", 3 chose \"Non-Public Safety\"\n",
    "    [3, 0], # Comment 19: 3 annotators chose \"Public Safety\", 0 chose \"Non-Public Safety\"\n",
    "    [1, 2], # Comment 20: 1 annotators chose \"Public Safety\", 2 chose \"Non-Public Safety\"\n",
    "    [2, 1], # Comment 21: 2 annotators chose \"Public Safety\", 1 chose \"Non-Public Safety\"\n",
    "    [1, 2], # Comment 22: 1 annotators chose \"Public Safety\", 2 chose \"Non-Public Safety\"\n",
    "    [0, 3], # Comment 23: 0 annotators chose \"Public Safety\", 3 chose \"Non-Public Safety\"\n",
    "    [0, 3], # Comment 24: 0 annotators chose \"Public Safety\", 3 chose \"Non-Public Safety\"\n",
    "    [1, 2], # Comment 25: 1 annotators chose \"Public Safety\", 2 chose \"Non-Public Safety\"\n",
    "    [0, 3], # Comment 26: 0 annotators chose \"Public Safety\", 3 chose \"Non-Public Safety\"\n",
    "    [3, 0], # Comment 27: 3 annotators chose \"Public Safety\", 0 chose \"Non-Public Safety\"\n",
    "    [1, 2], # Comment 28: 1 annotators chose \"Public Safety\", 2 chose \"Non-Public Safety\"\n",
    "    [3, 0], # Comment 29: 3 annotators chose \"Public Safety\", 0 chose \"Non-Public Safety\"\n",
    "    [0, 3], # Comment 30: 0 annotators chose \"Public Safety\", 3 chose \"Non-Public Safety\"\n",
    "    [1, 2], # Comment 31: 1 annotators chose \"Public Safety\", 2 chose \"Non-Public Safety\"\n",
    "    [3, 0], # Comment 32: 3 annotators chose \"Public Safety\", 0 chose \"Non-Public Safety\"\n",
    "    [1, 2], # Comment 33: 1 annotators chose \"Public Safety\", 2 chose \"Non-Public Safety\"\n",
    "    [2, 1], # Comment 34: 2 annotators chose \"Public Safety\", 1 chose \"Non-Public Safety\"\n",
    "    [0, 3], # Comment 35: 0 annotators chose \"Public Safety\", 3 chose \"Non-Public Safety\"\n",
    "    [0, 3], # Comment 36: 0 annotators chose \"Public Safety\", 3 chose \"Non-Public Safety\"\n",
    "    [3, 0], # Comment 37: 3 annotators chose \"Public Safety\", 0 chose \"Non-Public Safety\"\n",
    "    [3, 0], # Comment 38: 3 annotators chose \"Public Safety\", 0 chose \"Non-Public Safety\"\n",
    "    [0, 3], # Comment 39: 0 annotators chose \"Public Safety\", 3 chose \"Non-Public Safety\"\n",
    "    [0, 3], # Comment 40: 0 annotators chose \"Public Safety\", 3 chose \"Non-Public Safety\"\n",
    "    [1, 2], # Comment 41: 1 annotators chose \"Public Safety\", 2 chose \"Non-Public Safety\"\n",
    "    [3, 0], # Comment 42: 3 annotators chose \"Public Safety\", 0 chose \"Non-Public Safety\"\n",
    "    [1, 2], # Comment 43: 1 annotators chose \"Public Safety\", 2 chose \"Non-Public Safety\"\n",
    "    [3, 0], # Comment 44: 3 annotators chose \"Public Safety\", 0 chose \"Non-Public Safety\"\n",
    "    [0, 3], # Comment 45: 0 annotators chose \"Public Safety\", 3 chose \"Non-Public Safety\"\n",
    "    [1, 2], # Comment 46: 1 annotators chose \"Public Safety\", 2 chose \"Non-Public Safety\"\n",
    "    [0, 3], # Comment 47: 0 annotators chose \"Public Safety\", 3 chose \"Non-Public Safety\"\n",
    "    [2, 1], # Comment 48: 2 annotators chose \"Public Safety\", 1 chose \"Non-Public Safety\"\n",
    "    [2, 1], # Comment 49: 2 annotators chose \"Public Safety\", 1 chose \"Non-Public Safety\"\n",
    "    [0, 3]  # Comment 50: 0 annotators chose \"Public Safety\", 3 chose \"Non-Public Safety\"\n",
    "])\n",
    "\n",
    "# Calculate Fleiss' Kappa\n",
    "kappa2 = fleiss_kappa(data2, method='fleiss')\n",
    "print(\"Fleiss' Kappa:\", kappa2)"
   ]
  },
  {
   "cell_type": "markdown",
   "id": "234735d3-e8da-40e1-89ae-5044b9582b45",
   "metadata": {
    "tags": []
   },
   "source": [
    "As the Fleiss' Kappa value falls in the range of 0.41 - 0.6, we can assume that there is moderate agreement amongst the annotators when it comes to the Public Safety category."
   ]
  },
  {
   "cell_type": "markdown",
   "id": "d2ff37cb-27df-4811-aa79-d6656d57c74a",
   "metadata": {
    "tags": []
   },
   "source": [
    "### Using Raw Data from Each Group (Only For Technology Related)\n",
    "#### Included just to show our process flow and verifying results from the first half of the analysis"
   ]
  },
  {
   "cell_type": "code",
   "execution_count": 8,
   "id": "c036b1b4-e02f-4552-8a20-f86ebd0e97b9",
   "metadata": {
    "tags": []
   },
   "outputs": [],
   "source": [
    "from statsmodels.stats.inter_rater import fleiss_kappa\n",
    "import numpy as np"
   ]
  },
  {
   "cell_type": "code",
   "execution_count": 9,
   "id": "457c5b54-1744-4cb6-9d1e-afd478a3f798",
   "metadata": {
    "tags": []
   },
   "outputs": [],
   "source": [
    "technology_related_group1 = [\n",
    "    1, 0, 1, 1, 1, 1, 1, 1, 1, 0,\n",
    "    1, 1, 1, 1, 0, 1, 1, 1, 0, 1,\n",
    "    1, 0, 1, 0, 0, 1, 1, 1, 0, 1,\n",
    "    1, 1, 1, 1, 1, 1, 1, 1, 1, 1,\n",
    "    1, 1, 0, 1, 1, 1, 1, 1, 0, 1\n",
    "]\n",
    "\n",
    "technology_related_group2 = [\n",
    "    1, 1, 1, 1, 1, 1, 1, 0, 0, 0,\n",
    "    1, 0, 0, 1, 0, 1, 1, 1, 0, 1,\n",
    "    1, 1, 1, 0, 0, 1, 0, 0, 0, 1,\n",
    "    1, 0, 1, 0, 1, 1, 0, 0, 1, 0,\n",
    "    0, 0, 1, 0, 1, 1, 1, 0, 1, 1\n",
    "]\n",
    "\n",
    "technology_related_group3 = [\n",
    "    1, 0, 0, 1, 1, 0, 1, 1, 1, 0,\n",
    "    1, 1, 1, 1, 0, 1, 0, 1, 0, 1,\n",
    "    1, 0, 1, 0, 0, 1, 0, 1, 0, 1,\n",
    "    1, 0, 1, 1, 1, 1, 1, 1, 1, 1,\n",
    "    1, 0, 1, 1, 1, 1, 1, 0, 0, 1\n",
    "]\n"
   ]
  },
  {
   "cell_type": "code",
   "execution_count": 10,
   "id": "bca1a97d-9ca6-469e-b550-e5d642de6445",
   "metadata": {
    "tags": []
   },
   "outputs": [
    {
     "name": "stdout",
     "output_type": "stream",
     "text": [
      "\n",
      "Agreement/Disagreement Counts for Group 1 and Group 2:\n",
      "R1 Yes, R2 Yes: 25\n",
      "R1 Yes, R2 No: 15\n",
      "R1 No, R2 Yes: 4\n",
      "R1 No, R2 No: 6\n"
     ]
    }
   ],
   "source": [
    "r1_yes_r2_yes = 0 \n",
    "r1_no_r2_no = 0\n",
    "r1_yes_r2_no = 0\n",
    "r1_no_r2_yes = 0\n",
    "\n",
    "for r1, r2 in zip(technology_related_group1, technology_related_group2):\n",
    "    if r1 == 1 and r2 == 1:\n",
    "        r1_yes_r2_yes += 1\n",
    "    elif r1 == 1 and r2 == 0:\n",
    "        r1_yes_r2_no += 1\n",
    "    elif r1 == 0 and r2 == 1:\n",
    "        r1_no_r2_yes += 1\n",
    "    elif r1 == 0 and r2 == 0:\n",
    "        r1_no_r2_no += 1\n",
    "        \n",
    "print(\"\\nAgreement/Disagreement Counts for Group 1 and Group 2:\")\n",
    "print(f\"R1 Yes, R2 Yes: {r1_yes_r2_yes}\")\n",
    "print(f\"R1 Yes, R2 No: {r1_yes_r2_no}\")\n",
    "print(f\"R1 No, R2 Yes: {r1_no_r2_yes}\")\n",
    "print(f\"R1 No, R2 No: {r1_no_r2_no}\")"
   ]
  },
  {
   "cell_type": "code",
   "execution_count": 11,
   "id": "eb04a5fa-a06d-4422-8175-fac96fe0d778",
   "metadata": {
    "tags": []
   },
   "outputs": [
    {
     "name": "stdout",
     "output_type": "stream",
     "text": [
      "0.1592920353982302\n"
     ]
    }
   ],
   "source": [
    "po = (r1_yes_r2_yes+r1_no_r2_no)/(r1_yes_r2_yes+r1_no_r2_no+r1_yes_r2_no+r1_no_r2_yes)\n",
    "\n",
    "p_r1_yes = (r1_yes_r2_yes+r1_yes_r2_no)/(r1_yes_r2_yes+r1_no_r2_no+r1_yes_r2_no+r1_no_r2_yes)\n",
    "p_r1_no = (r1_no_r2_no+r1_no_r2_yes)/(r1_yes_r2_yes+r1_no_r2_no+r1_yes_r2_no+r1_no_r2_yes)\n",
    "p_r2_yes = (r1_yes_r2_yes+r1_no_r2_yes)/(r1_yes_r2_yes+r1_no_r2_no+r1_yes_r2_no+r1_no_r2_yes)\n",
    "p_r2_no = (r1_no_r2_no+r1_yes_r2_no)/(r1_yes_r2_yes+r1_no_r2_no+r1_yes_r2_no+r1_no_r2_yes)\n",
    "\n",
    "pe = p_r1_yes*p_r2_yes + p_r1_no*p_r2_no\n",
    "\n",
    "kappa = (po-pe)/(1-pe)\n",
    "print(kappa)"
   ]
  },
  {
   "cell_type": "code",
   "execution_count": 12,
   "id": "9b498550-6707-41bf-8ddc-bdfc3cb47230",
   "metadata": {
    "tags": []
   },
   "outputs": [
    {
     "name": "stdout",
     "output_type": "stream",
     "text": [
      "Fleiss' Kappa: 0.3183\n"
     ]
    }
   ],
   "source": [
    "data = np.array([technology_related_group1, technology_related_group2, technology_related_group3]).T\n",
    "\n",
    "def compute_agreement(data):\n",
    "    n_items = data.shape[0]\n",
    "    n_annotators = data.shape[1]\n",
    "    \n",
    "    agreement = []\n",
    "    for item in range(n_items):\n",
    "        count_1 = np.sum(data[item] == 1)\n",
    "        count_0 = np.sum(data[item] == 0)\n",
    "\n",
    "        agreement_item = ((count_1 * (count_1 - 1)) + (count_0 * (count_0 - 1))) / (n_annotators * (n_annotators - 1))\n",
    "        agreement.append(agreement_item)\n",
    "    \n",
    "    return np.mean(agreement)\n",
    "\n",
    "P_o = compute_agreement(data)\n",
    "\n",
    "def compute_expected_agreement(data):\n",
    "    n_items = data.shape[0]\n",
    "    n_annotators = data.shape[1]\n",
    "\n",
    "    freq_1 = np.sum(data == 1) / (n_items * n_annotators)\n",
    "    freq_0 = 1 - freq_1  \n",
    "    \n",
    "    P_e = (freq_1**2) + (freq_0**2)\n",
    "    \n",
    "    return P_e\n",
    "\n",
    "P_e = compute_expected_agreement(data)\n",
    "\n",
    "fleiss_kappa = (P_o - P_e) / (1 - P_e)\n",
    "\n",
    "print(f\"Fleiss' Kappa: {fleiss_kappa:.4f}\")"
   ]
  },
  {
   "cell_type": "markdown",
   "id": "2e629a56-c9ce-4bbc-b4b0-f456579abe5f",
   "metadata": {},
   "source": [
    "This result is the same as what was obtained in the first half of the analysis for the Technology category."
   ]
  }
 ],
 "metadata": {
  "kernelspec": {
   "display_name": "Python 3 (ipykernel)",
   "language": "python",
   "name": "python3"
  },
  "language_info": {
   "codemirror_mode": {
    "name": "ipython",
    "version": 3
   },
   "file_extension": ".py",
   "mimetype": "text/x-python",
   "name": "python",
   "nbconvert_exporter": "python",
   "pygments_lexer": "ipython3",
   "version": "3.11.7"
  }
 },
 "nbformat": 4,
 "nbformat_minor": 5
}
